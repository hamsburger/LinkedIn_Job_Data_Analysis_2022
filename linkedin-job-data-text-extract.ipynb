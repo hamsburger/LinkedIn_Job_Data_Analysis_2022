{
 "cells": [
  {
   "cell_type": "markdown",
   "metadata": {},
   "source": [
    "## NER Skill Extraction\n",
    "\n",
    "Let's focus on extracting important features from our Canadian and American jobs dataset, so that we can evaluate the best possible model for NER Skill Extraction"
   ]
  },
  {
   "cell_type": "code",
   "execution_count": 1,
   "metadata": {},
   "outputs": [],
   "source": [
    "import pandas as pd"
   ]
  },
  {
   "cell_type": "code",
   "execution_count": 2,
   "metadata": {},
   "outputs": [],
   "source": [
    "df = pd.read_csv(\n",
    "    \"./linkedin-data-analyst-jobs-listings-csv/Linkedin_Jobs_American_and_Canadian.csv\"\n",
    ")"
   ]
  },
  {
   "cell_type": "code",
   "execution_count": 3,
   "metadata": {},
   "outputs": [],
   "source": [
    "df.drop(columns=\"Unnamed: 0\", inplace=True)"
   ]
  },
  {
   "cell_type": "code",
   "execution_count": 4,
   "metadata": {},
   "outputs": [
    {
     "data": {
      "text/plain": [
       "Index(['title', 'company', 'description', 'onsite_remote', 'salary',\n",
       "       'location', 'posted_date', 'link', 'country', 'Seniority level',\n",
       "       'Employment type', 'Job function', 'Industries'],\n",
       "      dtype='object')"
      ]
     },
     "execution_count": 4,
     "metadata": {},
     "output_type": "execute_result"
    }
   ],
   "source": [
    "df.columns"
   ]
  },
  {
   "cell_type": "markdown",
   "metadata": {},
   "source": [
    "## 1. Data Exploration\n",
    "\n",
    "Let's inspect the description column and see if we can see any patterns"
   ]
  },
  {
   "cell_type": "code",
   "execution_count": 5,
   "metadata": {},
   "outputs": [
    {
     "data": {
      "text/plain": [
       "0       At PayPal (NASDAQ: PYPL), we believe that ever...\n",
       "1       Axonify is an intelligent workforce enablement...\n",
       "2       At PayPal (NASDAQ: PYPL), we believe that ever...\n",
       "3       The ideal candidate will use their passion for...\n",
       "4       At PayPal (NASDAQ: PYPL), we believe that ever...\n",
       "                              ...                        \n",
       "5613    Iris's client, one of the world's largest fina...\n",
       "5614    The Marwood Group (Marwood) is a leading healt...\n",
       "5615    Join a high-performing, tight-knit team at a f...\n",
       "5616    Nashville (Berry Hill) based company looking t...\n",
       "5617    Overview - Minimum 5 years in a quantitative d...\n",
       "Name: description, Length: 5618, dtype: object"
      ]
     },
     "execution_count": 5,
     "metadata": {},
     "output_type": "execute_result"
    }
   ],
   "source": [
    "df[\"description\"]"
   ]
  },
  {
   "cell_type": "code",
   "execution_count": null,
   "metadata": {},
   "outputs": [],
   "source": []
  }
 ],
 "metadata": {
  "kernelspec": {
   "display_name": "py310_notebook_env",
   "language": "python",
   "name": "python3"
  },
  "language_info": {
   "codemirror_mode": {
    "name": "ipython",
    "version": 3
   },
   "file_extension": ".py",
   "mimetype": "text/x-python",
   "name": "python",
   "nbconvert_exporter": "python",
   "pygments_lexer": "ipython3",
   "version": "3.10.10"
  }
 },
 "nbformat": 4,
 "nbformat_minor": 2
}
